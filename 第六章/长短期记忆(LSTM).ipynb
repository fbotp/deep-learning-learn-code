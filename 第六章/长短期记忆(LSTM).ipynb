{
 "cells": [
  {
   "cell_type": "markdown",
   "source": [
    "## 理论上，RNN在训练中会记忆很久之前的信息，但是由于梯度消失问题，实际上它是不可能学到这种长期依赖的。网络最终会变得无法训练，故有了LSTM\n",
    "## 它保存信息以便后面使用，从而防止较早期的信号在处理过程中逐渐消失，会带着这个信息在时间线上任意移动。"
   ],
   "metadata": {
    "collapsed": false,
    "pycharm": {
     "name": "#%% md\n"
    }
   }
  },
  {
   "cell_type": "markdown",
   "source": [
    "## LSTM是在RNN的基础上加了一个携带轨道\n",
    "c_t表示t时刻携带的值（信息）\n",
    "Uo Wo Vo为三个的权重\n",
    "output_t = activation(dot(state_t, Uo) + dot(input_t, Wo) + dot(C_t, Vo) + bo)\n",
    "## 计算下一个c_t涉及到的变量，三个变换用i、f、k表示\n",
    "i_t = activation(dot(state_t, Ui) + dot(input_t, Wi) + bi)\n",
    "f_t = activation(dot(state_t, Uf) + dot(input_t, Wf) + bf)\n",
    "k_t = activation(dot(state_t, Uk) + dot(input_t, Wk) + bk)\n",
    "## 对 i_t、f_t 和 k_t 进行组合，可以得到新的携带状态（下一个 c_t）。\n",
    "c_t+1 = i_t * k_t + c_t * f_t"
   ],
   "metadata": {
    "collapsed": false,
    "pycharm": {
     "name": "#%% md\n"
    }
   }
  },
  {
   "cell_type": "markdown",
   "source": [
    "## 只需要记住 LSTM 单元的作用：允许过去的信息稍后重新进入，从而解决梯度消失问题。"
   ],
   "metadata": {
    "collapsed": false,
    "pycharm": {
     "name": "#%% md\n"
    }
   }
  },
  {
   "cell_type": "markdown",
   "source": [
    "## 使用 LSTM 层来创建一个模型，然后在 IMDB 数据上训练模型"
   ],
   "metadata": {
    "collapsed": false,
    "pycharm": {
     "name": "#%% md\n"
    }
   }
  },
  {
   "cell_type": "code",
   "execution_count": 12,
   "outputs": [
    {
     "name": "stdout",
     "output_type": "stream",
     "text": [
      "Epoch 1/10\n",
      "157/157 [==============================] - 5s 32ms/step - loss: 0.4995 - acc: 0.7538 - val_loss: 0.3238 - val_acc: 0.8718\n",
      "Epoch 2/10\n",
      "157/157 [==============================] - 5s 30ms/step - loss: 0.2863 - acc: 0.8880 - val_loss: 0.3188 - val_acc: 0.8650\n",
      "Epoch 3/10\n",
      "157/157 [==============================] - 5s 29ms/step - loss: 0.2296 - acc: 0.9133 - val_loss: 0.3110 - val_acc: 0.8704\n",
      "Epoch 4/10\n",
      "157/157 [==============================] - 5s 30ms/step - loss: 0.1958 - acc: 0.9280 - val_loss: 0.2972 - val_acc: 0.8764\n",
      "Epoch 5/10\n",
      "157/157 [==============================] - 5s 33ms/step - loss: 0.1774 - acc: 0.9360 - val_loss: 0.2923 - val_acc: 0.8830\n",
      "Epoch 6/10\n",
      "157/157 [==============================] - 5s 30ms/step - loss: 0.1593 - acc: 0.9427 - val_loss: 0.3483 - val_acc: 0.8534\n",
      "Epoch 7/10\n",
      "157/157 [==============================] - 5s 30ms/step - loss: 0.1439 - acc: 0.9487 - val_loss: 0.3034 - val_acc: 0.8818\n",
      "Epoch 8/10\n",
      "157/157 [==============================] - 5s 30ms/step - loss: 0.1304 - acc: 0.9550 - val_loss: 0.3881 - val_acc: 0.8532\n",
      "Epoch 9/10\n",
      "157/157 [==============================] - 5s 29ms/step - loss: 0.1206 - acc: 0.9579 - val_loss: 0.3279 - val_acc: 0.8698\n",
      "Epoch 10/10\n",
      "157/157 [==============================] - 5s 30ms/step - loss: 0.1175 - acc: 0.9600 - val_loss: 0.3616 - val_acc: 0.8778\n"
     ]
    }
   ],
   "source": [
    "import os\n",
    "\n",
    "os.environ[\"CUDA_VISIBLE_DEVICES\"] = \"1\"\n",
    "from tensorflow.keras.models import Sequential\n",
    "from tensorflow.keras.layers import LSTM, Embedding, Dense\n",
    "from tensorflow.keras.datasets import imdb\n",
    "from tensorflow.keras.preprocessing import sequence\n",
    "\n",
    "# 加载前10000个最常见的特征词，loaddata时用\n",
    "max_features = 10000\n",
    "maxlen = 500\n",
    "(input_train, y_train), (input_test, y_test) = imdb.load_data(\n",
    "    num_words=max_features)\n",
    "input_train = sequence.pad_sequences(input_train, maxlen=maxlen)\n",
    "input_test = sequence.pad_sequences(input_test, maxlen=maxlen)\n",
    "model = Sequential()\n",
    "model.add(Embedding(max_features, 32))\n",
    "model.add(LSTM(32))\n",
    "model.add(Dense(1, activation='sigmoid'))\n",
    "model.compile(optimizer='rmsprop',\n",
    "              loss='binary_crossentropy',\n",
    "              metrics=['acc'])\n",
    "history = model.fit(input_train, y_train,\n",
    "                    epochs=10,\n",
    "                    batch_size=128,\n",
    "                    validation_split=0.2)"
   ],
   "metadata": {
    "collapsed": false,
    "pycharm": {
     "name": "#%%\n"
    }
   }
  },
  {
   "cell_type": "code",
   "execution_count": 13,
   "outputs": [
    {
     "data": {
      "text/plain": "<Figure size 432x288 with 1 Axes>",
      "image/png": "[encoded data removed]"
     },
     "metadata": {
      "needs_background": "light"
     },
     "output_type": "display_data"
    },
    {
     "data": {
      "text/plain": "<Figure size 432x288 with 1 Axes>",
      "image/png": "[encoded data removed]"
     },
     "metadata": {
      "needs_background": "light"
     },
     "output_type": "display_data"
    }
   ],
   "source": [
    "# 绘制训练 & 验证的损失值和准确率\n",
    "import matplotlib.pyplot as plt\n",
    "\n",
    "acc = history.history['acc']\n",
    "val_acc = history.history['val_acc']\n",
    "loss = history.history['loss']\n",
    "val_loss = history.history['val_loss']\n",
    "epochs = range(1, len(acc) + 1)\n",
    "plt.plot(epochs, acc, 'bo', label='Training acc')\n",
    "plt.plot(epochs, val_acc, 'b', label='Validation acc')\n",
    "plt.title('Training and validation accuracy')\n",
    "plt.legend()\n",
    "plt.figure()\n",
    "plt.plot(epochs, loss, 'bo', label='Training loss')\n",
    "plt.plot(epochs, val_loss, 'b', label='Validation loss')\n",
    "plt.title('Training and validation loss')\n",
    "plt.legend()\n",
    "plt.show()"
   ],
   "metadata": {
    "collapsed": false,
    "pycharm": {
     "name": "#%%\n"
    }
   }
  },
  {
   "cell_type": "code",
   "execution_count": 14,
   "outputs": [
    {
     "data": {
      "text/plain": "{0.8718000054359436: 0.3237561881542206,\n 0.8650000095367432: 0.31883299350738525,\n 0.8704000115394592: 0.31095701456069946,\n 0.8763999938964844: 0.2972401976585388,\n 0.8830000162124634: 0.29232004284858704,\n 0.8533999919891357: 0.3483395576477051,\n 0.8817999958992004: 0.30342528223991394,\n 0.8532000184059143: 0.38807493448257446,\n 0.8697999715805054: 0.32792264223098755,\n 0.8777999877929688: 0.3616269826889038}"
     },
     "execution_count": 14,
     "metadata": {},
     "output_type": "execute_result"
    }
   ],
   "source": [
    "dict(zip(history.history['val_acc'], history.history['val_loss']))"
   ],
   "metadata": {
    "collapsed": false,
    "pycharm": {
     "name": "#%%\n"
    }
   }
  }
 ],
 "metadata": {
  "kernelspec": {
   "display_name": "Python 3",
   "language": "python",
   "name": "python3"
  },
  "language_info": {
   "codemirror_mode": {
    "name": "ipython",
    "version": 2
   },
   "file_extension": ".py",
   "mimetype": "text/x-python",
   "name": "python",
   "nbconvert_exporter": "python",
   "pygments_lexer": "ipython2",
   "version": "2.7.6"
  }
 },
 "nbformat": 4,
 "nbformat_minor": 0
}