{
 "cells": [
  {
   "cell_type": "markdown",
   "source": [
    "## 正向RNN一次，反向RNN一次"
   ],
   "metadata": {
    "collapsed": false,
    "pycharm": {
     "name": "#%% md\n"
    }
   }
  },
  {
   "cell_type": "code",
   "execution_count": 2,
   "metadata": {
    "collapsed": true,
    "pycharm": {
     "name": "#%%\n"
    }
   },
   "outputs": [
    {
     "name": "stdout",
     "output_type": "stream",
     "text": [
      "Epoch 1/10\n",
      "157/157 [==============================] - 7s 46ms/step - loss: 0.4806 - acc: 0.7713 - val_loss: 0.4539 - val_acc: 0.7978\n",
      "Epoch 2/10\n",
      "157/157 [==============================] - 7s 44ms/step - loss: 0.3128 - acc: 0.8788 - val_loss: 0.3080 - val_acc: 0.8786\n",
      "Epoch 3/10\n",
      "157/157 [==============================] - 7s 42ms/step - loss: 0.2531 - acc: 0.9064 - val_loss: 0.3992 - val_acc: 0.8366\n",
      "Epoch 4/10\n",
      "157/157 [==============================] - 7s 43ms/step - loss: 0.2169 - acc: 0.9228 - val_loss: 0.3554 - val_acc: 0.8478\n",
      "Epoch 5/10\n",
      "157/157 [==============================] - 7s 44ms/step - loss: 0.1879 - acc: 0.9354 - val_loss: 0.4114 - val_acc: 0.8186\n",
      "Epoch 6/10\n",
      "157/157 [==============================] - 7s 43ms/step - loss: 0.1670 - acc: 0.9436 - val_loss: 0.8330 - val_acc: 0.7750\n",
      "Epoch 7/10\n",
      "157/157 [==============================] - 7s 43ms/step - loss: 0.1501 - acc: 0.9493 - val_loss: 0.3632 - val_acc: 0.8556\n",
      "Epoch 8/10\n",
      "157/157 [==============================] - 7s 43ms/step - loss: 0.1372 - acc: 0.9543 - val_loss: 0.4377 - val_acc: 0.8736\n",
      "Epoch 9/10\n",
      "157/157 [==============================] - 7s 43ms/step - loss: 0.1215 - acc: 0.9600 - val_loss: 0.4141 - val_acc: 0.8646\n",
      "Epoch 10/10\n",
      "157/157 [==============================] - 7s 44ms/step - loss: 0.1090 - acc: 0.9643 - val_loss: 0.4095 - val_acc: 0.8524\n"
     ]
    },
    {
     "data": {
      "text/plain": "<tensorflow.python.keras.callbacks.History at 0x7f5c241cbdc0>"
     },
     "execution_count": 2,
     "metadata": {},
     "output_type": "execute_result"
    }
   ],
   "source": [
    "# 使用逆序序列训练一个LSTM\n",
    "import os\n",
    "\n",
    "os.environ[\"CUDA_VISIBLE_DEVICES\"] = \"1\"\n",
    "\n",
    "from tensorflow.keras import layers\n",
    "from tensorflow.keras.datasets import imdb\n",
    "from tensorflow.keras.models import Sequential\n",
    "from tensorflow.keras.preprocessing import sequence\n",
    "\n",
    "max_features = 10000\n",
    "maxlen = 500\n",
    "(x_train, y_train), (x_test, y_test) = imdb.load_data(\n",
    "    num_words=max_features)\n",
    "x_train = [x[::-1] for x in x_train]\n",
    "x_test = [x[::-1] for x in x_test]\n",
    "x_train = sequence.pad_sequences(x_train, maxlen=maxlen)\n",
    "x_test = sequence.pad_sequences(x_test, maxlen=maxlen)\n",
    "model = Sequential()\n",
    "model.add(layers.Embedding(max_features, 128))\n",
    "model.add(layers.LSTM(32))\n",
    "model.add(layers.Dense(1, activation='sigmoid'))\n",
    "model.compile(optimizer='rmsprop',\n",
    "              loss='binary_crossentropy',\n",
    "              metrics=['acc'])\n",
    "model.fit(x_train, y_train,\n",
    "                    epochs=10,\n",
    "                    batch_size=128,\n",
    "                    validation_split=0.2)"
   ]
  },
  {
   "cell_type": "markdown",
   "source": [
    "## 结论：虽然单词顺序对理解语言很重要，但使用哪种顺序并不重要"
   ],
   "metadata": {
    "collapsed": false,
    "pycharm": {
     "name": "#%% md\n"
    }
   }
  },
  {
   "cell_type": "code",
   "execution_count": 3,
   "outputs": [
    {
     "name": "stdout",
     "output_type": "stream",
     "text": [
      "Epoch 1/10\n",
      "157/157 [==============================] - 8s 52ms/step - loss: 0.5371 - acc: 0.7315 - val_loss: 0.3752 - val_acc: 0.8552\n",
      "Epoch 2/10\n",
      "157/157 [==============================] - 7s 47ms/step - loss: 0.3257 - acc: 0.8719 - val_loss: 0.5591 - val_acc: 0.7868\n",
      "Epoch 3/10\n",
      "157/157 [==============================] - 7s 47ms/step - loss: 0.2631 - acc: 0.9035 - val_loss: 0.3102 - val_acc: 0.8772\n",
      "Epoch 4/10\n",
      "157/157 [==============================] - 8s 49ms/step - loss: 0.2235 - acc: 0.9206 - val_loss: 0.2987 - val_acc: 0.8826\n",
      "Epoch 5/10\n",
      "157/157 [==============================] - 8s 48ms/step - loss: 0.1982 - acc: 0.9295 - val_loss: 0.3809 - val_acc: 0.8614\n",
      "Epoch 6/10\n",
      "157/157 [==============================] - 8s 49ms/step - loss: 0.1726 - acc: 0.9401 - val_loss: 0.3362 - val_acc: 0.8882\n",
      "Epoch 7/10\n",
      "157/157 [==============================] - 8s 49ms/step - loss: 0.1578 - acc: 0.9439 - val_loss: 0.3801 - val_acc: 0.8308\n",
      "Epoch 8/10\n",
      "157/157 [==============================] - 8s 49ms/step - loss: 0.1483 - acc: 0.9484 - val_loss: 0.4095 - val_acc: 0.8648\n",
      "Epoch 9/10\n",
      "157/157 [==============================] - 8s 50ms/step - loss: 0.1370 - acc: 0.9525 - val_loss: 0.3610 - val_acc: 0.8794\n",
      "Epoch 10/10\n",
      "157/157 [==============================] - 8s 49ms/step - loss: 0.1257 - acc: 0.9571 - val_loss: 0.3916 - val_acc: 0.8712\n"
     ]
    }
   ],
   "source": [
    "# 训练一个双向LSTM\n",
    "model = Sequential()\n",
    "model.add(layers.Embedding(max_features, 32))\n",
    "model.add(layers.Bidirectional(layers.LSTM(32)))\n",
    "model.add(layers.Dense(1, activation='sigmoid'))\n",
    "model.compile(optimizer='rmsprop', loss='binary_crossentropy', metrics=['acc'])\n",
    "history = model.fit(x_train, y_train,\n",
    "                    epochs=10,\n",
    "                    batch_size=128,\n",
    "                    validation_split=0.2)"
   ],
   "metadata": {
    "collapsed": false,
    "pycharm": {
     "name": "#%%\n"
    }
   }
  }
 ],
 "metadata": {
  "kernelspec": {
   "display_name": "Python 3",
   "language": "python",
   "name": "python3"
  },
  "language_info": {
   "codemirror_mode": {
    "name": "ipython",
    "version": 2
   },
   "file_extension": ".py",
   "mimetype": "text/x-python",
   "name": "python",
   "nbconvert_exporter": "python",
   "pygments_lexer": "ipython2",
   "version": "2.7.6"
  }
 },
 "nbformat": 4,
 "nbformat_minor": 0
}